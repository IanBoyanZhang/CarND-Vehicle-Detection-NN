{
 "cells": [
  {
   "cell_type": "code",
   "execution_count": 1,
   "metadata": {
    "collapsed": false
   },
   "outputs": [],
   "source": [
    "from detect import *\n",
    "# import matplotlib.pyplot as plt\n",
    "from moviepy.editor import VideoFileClip # just import what you need"
   ]
  },
  {
   "cell_type": "code",
   "execution_count": 2,
   "metadata": {
    "collapsed": false
   },
   "outputs": [
    {
     "name": "stdout",
     "output_type": "stream",
     "text": [
      "[MoviePy] >>>> Building video ../test_output.mp4\n",
      "[MoviePy] Writing video ../test_output.mp4\n"
     ]
    },
    {
     "name": "stderr",
     "output_type": "stream",
     "text": [
      " 97%|█████████▋| 38/39 [00:52<00:01,  1.25s/it]\n"
     ]
    },
    {
     "name": "stdout",
     "output_type": "stream",
     "text": [
      "[MoviePy] Done.\n",
      "[MoviePy] >>>> Video ready: ../test_output.mp4 \n",
      "\n",
      "CPU times: user 44.5 s, sys: 1.49 s, total: 46 s\n",
      "Wall time: 54.3 s\n"
     ]
    }
   ],
   "source": [
    "%matplotlib inline\n",
    "# plt.imshow(car_tracker(image))\n",
    "\n",
    "# output = '../output.mp4'\n",
    "# project_video = VideoFileClip(\"../project_video.mp4\")\n",
    "# project_clip = project_video.fl_image(tracker.car_tracker)\n",
    "# %time project_clip.write_videofile(output, audio=False)\n",
    "\n",
    "output = '../test_output.mp4'\n",
    "# output = '../output.mp4'\n",
    "# project_video = VideoFileClip(\"../project_video.mp4\")\n",
    "\n",
    "project_video = VideoFileClip(\"../videos/test_video.mp4\")\n",
    "# project_clip = project_video.fl_image(tracker.car_tracker).subclip(0,0.5)\n",
    "project_clip = project_video.fl_image(tracker.car_tracker)\n",
    "%time project_clip.write_videofile(output, audio=False)\n"
   ]
  },
  {
   "cell_type": "code",
   "execution_count": null,
   "metadata": {
    "collapsed": true
   },
   "outputs": [],
   "source": []
  }
 ],
 "metadata": {
  "kernelspec": {
   "display_name": "Python 3",
   "language": "python",
   "name": "python3"
  },
  "language_info": {
   "codemirror_mode": {
    "name": "ipython",
    "version": 3
   },
   "file_extension": ".py",
   "mimetype": "text/x-python",
   "name": "python",
   "nbconvert_exporter": "python",
   "pygments_lexer": "ipython3",
   "version": "3.5.2"
  },
  "widgets": {
   "state": {},
   "version": "1.1.2"
  }
 },
 "nbformat": 4,
 "nbformat_minor": 2
}
